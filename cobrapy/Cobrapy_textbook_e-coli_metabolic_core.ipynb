{
 "cells": [
  {
   "cell_type": "code",
   "execution_count": 2,
   "id": "adc2260c-20bc-4f64-8d39-31d52b3678cf",
   "metadata": {},
   "outputs": [],
   "source": [
    "import cobra\n",
    "from cobra.io import load_model\n",
    "\n",
    "model = load_model(\"textbook\")\n",
    "import numpy as np"
   ]
  },
  {
   "cell_type": "code",
   "execution_count": 3,
   "id": "67ac5327-33cd-4301-9d21-b3137c37a9e6",
   "metadata": {},
   "outputs": [],
   "source": [
    "# the stoichiometric matrix\n",
    "\n",
    "S = cobra.util.array.create_stoichiometric_matrix(model)"
   ]
  },
  {
   "cell_type": "code",
   "execution_count": 4,
   "id": "7c052704-01ee-4668-8f0a-1dfef3c393cf",
   "metadata": {},
   "outputs": [
    {
     "data": {
      "text/html": [
       "<strong><em>Optimal</em> solution with objective value 0.874</strong><br><div>\n",
       "<style scoped>\n",
       "    .dataframe tbody tr th:only-of-type {\n",
       "        vertical-align: middle;\n",
       "    }\n",
       "\n",
       "    .dataframe tbody tr th {\n",
       "        vertical-align: top;\n",
       "    }\n",
       "\n",
       "    .dataframe thead th {\n",
       "        text-align: right;\n",
       "    }\n",
       "</style>\n",
       "<table border=\"1\" class=\"dataframe\">\n",
       "  <thead>\n",
       "    <tr style=\"text-align: right;\">\n",
       "      <th></th>\n",
       "      <th>fluxes</th>\n",
       "      <th>reduced_costs</th>\n",
       "    </tr>\n",
       "  </thead>\n",
       "  <tbody>\n",
       "    <tr>\n",
       "      <th>ACALD</th>\n",
       "      <td>0.000000</td>\n",
       "      <td>6.938894e-18</td>\n",
       "    </tr>\n",
       "    <tr>\n",
       "      <th>ACALDt</th>\n",
       "      <td>0.000000</td>\n",
       "      <td>0.000000e+00</td>\n",
       "    </tr>\n",
       "    <tr>\n",
       "      <th>ACKr</th>\n",
       "      <td>0.000000</td>\n",
       "      <td>1.040834e-17</td>\n",
       "    </tr>\n",
       "    <tr>\n",
       "      <th>ACONTa</th>\n",
       "      <td>6.007250</td>\n",
       "      <td>0.000000e+00</td>\n",
       "    </tr>\n",
       "    <tr>\n",
       "      <th>ACONTb</th>\n",
       "      <td>6.007250</td>\n",
       "      <td>1.387779e-17</td>\n",
       "    </tr>\n",
       "    <tr>\n",
       "      <th>...</th>\n",
       "      <td>...</td>\n",
       "      <td>...</td>\n",
       "    </tr>\n",
       "    <tr>\n",
       "      <th>TALA</th>\n",
       "      <td>1.496984</td>\n",
       "      <td>-1.387779e-17</td>\n",
       "    </tr>\n",
       "    <tr>\n",
       "      <th>THD2</th>\n",
       "      <td>0.000000</td>\n",
       "      <td>-2.546243e-03</td>\n",
       "    </tr>\n",
       "    <tr>\n",
       "      <th>TKT1</th>\n",
       "      <td>1.496984</td>\n",
       "      <td>-1.387779e-17</td>\n",
       "    </tr>\n",
       "    <tr>\n",
       "      <th>TKT2</th>\n",
       "      <td>1.181498</td>\n",
       "      <td>1.387779e-17</td>\n",
       "    </tr>\n",
       "    <tr>\n",
       "      <th>TPI</th>\n",
       "      <td>7.477382</td>\n",
       "      <td>-6.938894e-18</td>\n",
       "    </tr>\n",
       "  </tbody>\n",
       "</table>\n",
       "<p>95 rows × 2 columns</p>\n",
       "</div>"
      ],
      "text/plain": [
       "<Solution 0.874 at 0x7f5e5a8c1370>"
      ]
     },
     "execution_count": 4,
     "metadata": {},
     "output_type": "execute_result"
    }
   ],
   "source": [
    "model.optimize()"
   ]
  },
  {
   "cell_type": "code",
   "execution_count": 36,
   "id": "1ad5da4d-fae6-4684-883b-c98eac74208c",
   "metadata": {},
   "outputs": [
    {
     "data": {
      "text/plain": [
       "array(['GAPD', 'PGK'], dtype='<U18')"
      ]
     },
     "execution_count": 36,
     "metadata": {},
     "output_type": "execute_result"
    }
   ],
   "source": [
    "reactions = np.array([reaction.id for reaction in model.reactions])\n",
    "reactions[S[0] > 0]"
   ]
  },
  {
   "cell_type": "code",
   "execution_count": 44,
   "id": "bfe0a00d-27fc-40c8-8337-c4db0173df03",
   "metadata": {},
   "outputs": [
    {
     "data": {
      "text/plain": [
       "'13dpg_c'"
      ]
     },
     "execution_count": 44,
     "metadata": {},
     "output_type": "execute_result"
    }
   ],
   "source": [
    "metabs = np.array([reaction.id for reaction in model.metabolites])\n",
    "metabs[0]"
   ]
  },
  {
   "cell_type": "code",
   "execution_count": 65,
   "id": "6ce5b8c6-89b7-42e4-8562-d600dc8b2c46",
   "metadata": {},
   "outputs": [],
   "source": [
    "def listToString(s):\n",
    " \n",
    "    # initialize an empty string\n",
    "    str1 = \"\"\n",
    " \n",
    "    # traverse in the string\n",
    "    for ele in s:\n",
    "        str1 += str(ele) + ' '\n",
    " \n",
    "    # return string\n",
    "    return str1[:-1]"
   ]
  },
  {
   "cell_type": "code",
   "execution_count": 66,
   "id": "87aad0fd-a4c5-4dd9-8f75-5dd45bc31b1b",
   "metadata": {},
   "outputs": [],
   "source": [
    "stuff = [['nameservers','panel'], ['nameservers','panel']]\n",
    "with open(\"out.txt\", \"w\") as o:\n",
    "    for line in stuff:\n",
    "        print(listToString(line), file=o)"
   ]
  },
  {
   "cell_type": "code",
   "execution_count": 67,
   "id": "076d4f17-ddba-486f-b974-c15aa9df62e4",
   "metadata": {},
   "outputs": [],
   "source": [
    "with open(\"smatrix.txt\", \"w\") as o:\n",
    "    for line in S:\n",
    "        print(listToString(line), file=o)"
   ]
  },
  {
   "cell_type": "code",
   "execution_count": 71,
   "id": "4eaafc11-a263-4c10-96c0-2d69a276fb62",
   "metadata": {},
   "outputs": [],
   "source": [
    "reactions = np.array([reaction.id.replace('_','99') for reaction in model.reactions])\n",
    "\n",
    "with open(\"reactions.txt\", \"w\") as o:\n",
    "    print(listToString(reactions), file=o)"
   ]
  },
  {
   "cell_type": "code",
   "execution_count": 85,
   "id": "a96d3a5d-23a0-4e21-9b5d-ff87c443a44d",
   "metadata": {},
   "outputs": [],
   "source": [
    "upper = np.array([model.reactions.get_by_id(reaction.id).upper_bound for reaction in model.reactions])\n",
    "\n",
    "with open(\"upper.txt\", \"w\") as o:\n",
    "    print(listToString(upper), file=o)"
   ]
  },
  {
   "cell_type": "code",
   "execution_count": 86,
   "id": "024b715b-eff8-48b1-9e65-8c3823aa9ba4",
   "metadata": {},
   "outputs": [],
   "source": [
    "lower = np.array([model.reactions.get_by_id(reaction.id).lower_bound for reaction in model.reactions])\n",
    "\n",
    "with open(\"lower.txt\", \"w\") as o:\n",
    "    print(listToString(lower), file=o)"
   ]
  }
 ],
 "metadata": {
  "kernelspec": {
   "display_name": "Python 3",
   "language": "python",
   "name": "python3"
  },
  "language_info": {
   "codemirror_mode": {
    "name": "ipython",
    "version": 3
   },
   "file_extension": ".py",
   "mimetype": "text/x-python",
   "name": "python",
   "nbconvert_exporter": "python",
   "pygments_lexer": "ipython3",
   "version": "3.8.13"
  }
 },
 "nbformat": 4,
 "nbformat_minor": 5
}
